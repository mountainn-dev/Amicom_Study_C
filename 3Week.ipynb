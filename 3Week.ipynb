{
 "cells": [
  {
   "cell_type": "code",
   "execution_count": null,
   "metadata": {
    "vscode": {
     "languageId": "c"
    }
   },
   "outputs": [],
   "source": [
    "// 첫번째 문제\n",
    "#define _CRT_SECURE_NO_WARNINGS\n",
    "#include <stdio.h>\n",
    "\n",
    "void find_3_Multiple();\n",
    "\n",
    "void main() {\n",
    "\tint a, b = 0;\n",
    "\n",
    "\tscanf(\"%d %d\", &a, &b);\n",
    "\n",
    "\tfind_3_Multiple(a, b);\n",
    "}\n",
    "\n",
    "void find_3_Multiple(int a, int b) {\n",
    "\tint count = 0;\n",
    "\tfor (int i = a; i < b+1; i++) {\n",
    "\t\tif (i % 3 == 0) {\n",
    "\t\t\tcount++;\n",
    "\t\t}\n",
    "\t\telse if (i / 10 == 3 || i / 10 == 6 || i / 10 == 9) {\n",
    "\t\t\tcount++;\n",
    "\t\t}\n",
    "\t\telse if (i % 10 == 3 || i % 10 == 6 || i % 10 == 9) {\n",
    "\t\t\tcount++;\n",
    "\t\t}\n",
    "\t}\n",
    "\tprintf(\"%d\",count);\n",
    "}"
   ]
  },
  {
   "cell_type": "code",
   "execution_count": null,
   "metadata": {
    "vscode": {
     "languageId": "c"
    }
   },
   "outputs": [],
   "source": [
    "// 두번째 문제\n",
    "#define _CRT_SECURE_NO_WARNINGS\n",
    "#include <stdio.h>\n",
    "\n",
    "\n",
    "char efgh[] = \"\";\n",
    "void copy_word();\n",
    "\n",
    "void main() {\n",
    "\tchar abcd[] = \"hello world you can do it don't give up\";\n",
    "\n",
    "\n",
    "\tcopy_word(abcd);\n",
    "}\n",
    "\n",
    "void copy_word(char* abcd) {\n",
    "\tstrcpy(efgh, abcd, sizeof(abcd));\n",
    "\n",
    "\tprintf(\"%s\", efgh);\n",
    "}\n"
   ]
  }
 ],
 "metadata": {
  "language_info": {
   "name": "python"
  },
  "orig_nbformat": 4
 },
 "nbformat": 4,
 "nbformat_minor": 2
}
